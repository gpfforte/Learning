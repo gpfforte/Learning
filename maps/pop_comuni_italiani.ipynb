{
 "cells": [
  {
   "cell_type": "code",
   "execution_count": 3,
   "metadata": {},
   "outputs": [],
   "source": [
    "import pandas as pd\n",
    "import folium\n",
    "import json\n",
    "import pandas as pd\n",
    "import requests\n",
    "\n"
   ]
  },
  {
   "cell_type": "code",
   "execution_count": null,
   "metadata": {},
   "outputs": [],
   "source": [
    "df_comuni_pop = pd.read_csv(\"comuni.csv\")\n",
    "df_comuni_pop = df_comuni_pop[df_comuni_pop[\"Età\"]==999].reset_index()\n",
    "df_comuni_pop[\"Totale\"] = df_comuni_pop[\"Totale Maschi\"]+df_comuni_pop[\"Totale Femmine\"]\n",
    "df_comuni_pop = df_comuni_pop[[\"Codice comune\",\"Totale\"]]\n",
    "\n",
    "\n",
    "print(df_comuni_pop.head())"
   ]
  },
  {
   "cell_type": "code",
   "execution_count": null,
   "metadata": {},
   "outputs": [],
   "source": [
    "# map.save(\"mappa.html\")\n",
    "\n",
    "# world-countries.json\n",
    "# comuni_italiani_geo = (\n",
    "#     \"https://raw.githubusercontent.com/openpolis/geojson-italy/master/geojson/limits_IT_municipalities.geojson\"\n",
    "# )\n",
    "comuni_italiani_geo = (\n",
    "    \"limits_IT_municipalities.geojson\"\n",
    ")\n",
    "\n",
    "\n",
    "m = folium.Map(location=[42.7259, 12.5464], zoom_start=6, tiles=\"Stamen Toner\")\n",
    "m.add_child(folium.LatLngPopup())\n",
    "folium.Choropleth(\n",
    "    geo_data=comuni_italiani_geo,\n",
    "    name=\"choropleth\",\n",
    "    data=df_comuni_pop,\n",
    "    columns=[\"Codice comune\", \"Totale\"],\n",
    "    key_on=\"feature.properties.com_istat_code_num\",\n",
    "    fill_color=\"YlOrBr\", # https://colorbrewer2.org/\n",
    "    # fill_color=\"BuPu\",\n",
    "    fill_opacity=0.7,\n",
    "    line_opacity=0.2,\n",
    "    legend_name=\"Popolazione\",\n",
    ").add_to(m)\n",
    "m\n"
   ]
  }
 ],
 "metadata": {
  "interpreter": {
   "hash": "e4c637b76e5ad77273043986155a5e4cf75009e97e48394ab6757b1e7633eb84"
  },
  "kernelspec": {
   "display_name": "Python 3.8.10 64-bit (windows store)",
   "language": "python",
   "name": "python3"
  },
  "language_info": {
   "codemirror_mode": {
    "name": "ipython",
    "version": 3
   },
   "file_extension": ".py",
   "mimetype": "text/x-python",
   "name": "python",
   "nbconvert_exporter": "python",
   "pygments_lexer": "ipython3",
   "version": "3.8.10"
  },
  "orig_nbformat": 4
 },
 "nbformat": 4,
 "nbformat_minor": 2
}
