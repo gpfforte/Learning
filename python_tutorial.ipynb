{
 "cells": [
  {
   "cell_type": "markdown",
   "metadata": {},
   "source": [
    "# EXERCISE 1\n",
    "Write a function dict_merge_sum that takes two dictionaries d1 and d2 as parameters. The values of both\n",
    "dictionaries are numerical. The function should return the merged sum dictionary m of those dictionaries. If a\n",
    "key k is both in d1 and d2 , the corresponding values will be added and included in the dictionary m If\n",
    "k is only contained in one of the dictionaries, the k and the corresponding value will be included in m"
   ]
  },
  {
   "cell_type": "code",
   "execution_count": null,
   "metadata": {},
   "outputs": [],
   "source": [
    "def dict_merge_sum(d1, d2):\n",
    "    d3 = {}\n",
    "    for key1, value1 in d1.items():\n",
    "        if key1 not in d3.keys():\n",
    "            d3[key1] = value1\n",
    "        for key2, value2 in d2.items():\n",
    "            if key2 not in d3.keys():\n",
    "                d3[key2] = value2\n",
    "            if key1 == key2:\n",
    "                d3[key2] = value1+value2\n",
    "            # elif:\n",
    "            #     d3[key2] = value2\n",
    "    return d3\n",
    "d1 = {\"a\": 1, \"d\": 2, \"c\": 4}\n",
    "d2 = {\"a\": 1, \"e\": 2, \"c\": 4}\n",
    "\n",
    "print(dict_merge_sum(d1, d2))"
   ]
  },
  {
   "cell_type": "markdown",
   "metadata": {},
   "source": [
    "# EXERCISE 2\n",
    "Given is the following simplified data of a supermarket\n",
    "To be ready for an imminent crisis you decide to buy everything. This isn't particularly social behavior, but for\n",
    "the sake of the task, let's imagine it. The question is how much will you have to pay?"
   ]
  },
  {
   "cell_type": "code",
   "execution_count": null,
   "metadata": {},
   "outputs": [],
   "source": [
    "supermarket = { \"milk\": {\"quantity\": 20, \"price\": 1.19},\n",
    "\"biscuits\": {\"quantity\": 32, \"price\": 1.45},\n",
    "\"butter\": {\"quantity\": 20, \"price\": 2.29},\n",
    "\"cheese\": {\"quantity\": 15, \"price\": 1.90},\n",
    "\"bread\": {\"quantity\": 15, \"price\": 2.59},\n",
    "\"cookies\": {\"quantity\": 20, \"price\": 4.99},\n",
    "\"yogurt\": {\"quantity\": 18, \"price\": 3.65},\n",
    "\"apples\": {\"quantity\": 35, \"price\": 3.15},\n",
    "\"oranges\": {\"quantity\": 40, \"price\": 0.99},\n",
    "\"bananas\": {\"quantity\": 23, \"price\": 1.29}}\n",
    "\n",
    "sum=0\n",
    "for value in supermarket.values():\n",
    "    print(value[\"quantity\"]*value[\"price\"])\n",
    "    sum += value[\"quantity\"]*value[\"price\"]\n",
    "print(sum)"
   ]
  }
 ],
 "metadata": {
  "interpreter": {
   "hash": "e4c637b76e5ad77273043986155a5e4cf75009e97e48394ab6757b1e7633eb84"
  },
  "kernelspec": {
   "display_name": "Python 3.8.10 64-bit (windows store)",
   "language": "python",
   "name": "python3"
  },
  "language_info": {
   "codemirror_mode": {
    "name": "ipython",
    "version": 3
   },
   "file_extension": ".py",
   "mimetype": "text/x-python",
   "name": "python",
   "nbconvert_exporter": "python",
   "pygments_lexer": "ipython3",
   "version": "3.8.10"
  },
  "orig_nbformat": 4
 },
 "nbformat": 4,
 "nbformat_minor": 2
}
