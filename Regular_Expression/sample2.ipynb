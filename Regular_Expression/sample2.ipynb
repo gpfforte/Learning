{
 "cells": [
  {
   "cell_type": "code",
   "execution_count": 2,
   "metadata": {},
   "outputs": [],
   "source": [
    "import re\n",
    "from collections import Counter\n",
    "import pandas as pd\n",
    "import os\n",
    "from servizio import log_setup"
   ]
  },
  {
   "cell_type": "code",
   "execution_count": 3,
   "metadata": {},
   "outputs": [],
   "source": [
    "stringa = \"\"\"\n",
    "RegExr was created by gskinner.com.\n",
    "Edit the Expression & Text to see matches. \n",
    "Roll over matches or the expression for details. PCRE & JavaScript flavors of RegEx are supported.\n",
    "Validate your expression with Tests mode.\n",
    "The side bar includes a Cheatsheet, full Reference, and Help.\n",
    "You can also Save & Share with the Community and view patterns you create or favorite in My Patterns.\n",
    "\"\"\""
   ]
  },
  {
   "cell_type": "code",
   "execution_count": 4,
   "metadata": {},
   "outputs": [
    {
     "name": "stdout",
     "output_type": "stream",
     "text": [
      "['RegExr', 'Edit', 'Expression', 'Text', 'Roll', 'PCRE', 'JavaScript', 'RegEx', 'Validate', 'Tests', 'The', 'Cheatsheet', 'Reference', 'Help', 'You', 'Save', 'Share', 'Community', 'My', 'Patterns']\n"
     ]
    }
   ],
   "source": [
    "# re_pattern = re.compile(r\"[a-z,A-Z]+\")\n",
    "re_pattern = re.compile(r\"([A-Z]\\w+)\")\n",
    "result = re_pattern.findall(stringa)\n",
    "print(result)"
   ]
  },
  {
   "cell_type": "code",
   "execution_count": 5,
   "metadata": {},
   "outputs": [
    {
     "name": "stdout",
     "output_type": "stream",
     "text": [
      "R\n"
     ]
    }
   ],
   "source": [
    "re_pattern = re.compile(r\"(([A-Z])\\w+)\")\n",
    "result = re_pattern.search(stringa)\n",
    "print(result.group(2))"
   ]
  },
  {
   "cell_type": "code",
   "execution_count": 9,
   "metadata": {},
   "outputs": [
    {
     "name": "stdout",
     "output_type": "stream",
     "text": [
      "RegExr\n",
      "R\n",
      "r\n",
      "Edit\n",
      "E\n",
      "t\n",
      "Expression\n",
      "E\n",
      "n\n",
      "Text\n",
      "T\n",
      "t\n",
      "Roll\n",
      "R\n",
      "l\n",
      "PCRE\n",
      "P\n",
      "E\n",
      "JavaScript\n",
      "J\n",
      "t\n",
      "RegEx\n",
      "R\n",
      "x\n",
      "Validate\n",
      "V\n",
      "e\n",
      "Tests\n",
      "T\n",
      "s\n",
      "The\n",
      "T\n",
      "e\n",
      "Cheatsheet\n",
      "C\n",
      "t\n",
      "Reference\n",
      "R\n",
      "e\n",
      "Help\n",
      "H\n",
      "p\n",
      "You\n",
      "Y\n",
      "u\n",
      "Save\n",
      "S\n",
      "e\n",
      "Share\n",
      "S\n",
      "e\n",
      "Community\n",
      "C\n",
      "y\n",
      "My\n",
      "M\n",
      "y\n",
      "Patterns\n",
      "P\n",
      "s\n"
     ]
    }
   ],
   "source": [
    "re_pattern = re.compile(r\"([A-Z])(\\w)+\")\n",
    "result = re_pattern.finditer(stringa)\n",
    "for item in result:\n",
    "    print(item.group(0))\n",
    "    print(item.group(1))\n",
    "    print(item.group(2))"
   ]
  },
  {
   "cell_type": "code",
   "execution_count": 7,
   "metadata": {},
   "outputs": [
    {
     "name": "stdout",
     "output_type": "stream",
     "text": [
      "R\n",
      "E\n",
      "E\n",
      "T\n",
      "R\n",
      "P\n",
      "J\n",
      "R\n",
      "V\n",
      "T\n",
      "T\n",
      "C\n",
      "R\n",
      "H\n",
      "Y\n",
      "S\n",
      "S\n",
      "C\n",
      "M\n",
      "P\n"
     ]
    }
   ],
   "source": [
    "re_pattern = re.compile(r\"(([A-Z])\\w+)\")\n",
    "result = re_pattern.finditer(stringa)\n",
    "for item in result:\n",
    "    print(item.group(2))"
   ]
  }
 ],
 "metadata": {
  "kernelspec": {
   "display_name": "Python 3",
   "language": "python",
   "name": "python3"
  },
  "language_info": {
   "codemirror_mode": {
    "name": "ipython",
    "version": 3
   },
   "file_extension": ".py",
   "mimetype": "text/x-python",
   "name": "python",
   "nbconvert_exporter": "python",
   "pygments_lexer": "ipython3",
   "version": "3.11.4"
  }
 },
 "nbformat": 4,
 "nbformat_minor": 2
}
