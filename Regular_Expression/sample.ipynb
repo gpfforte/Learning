{
 "cells": [
  {
   "cell_type": "code",
   "execution_count": 1,
   "metadata": {},
   "outputs": [],
   "source": [
    "import re\n",
    "from collections import Counter\n",
    "import pandas as pd\n",
    "import os\n",
    "from servizio import log_setup"
   ]
  },
  {
   "cell_type": "code",
   "execution_count": 6,
   "metadata": {},
   "outputs": [
    {
     "name": "stdout",
     "output_type": "stream",
     "text": [
      "re.compile('[a-z,A-Z]+')\n"
     ]
    },
    {
     "data": {
      "text/plain": [
       "Counter({'ramo': 8130,\n",
       "         'mora': 8130,\n",
       "         'pippo': 4336,\n",
       "         'com': 2168,\n",
       "         'https': 1626,\n",
       "         'Viva': 1084,\n",
       "         'le': 1084,\n",
       "         'cose': 1084,\n",
       "         'migliori': 1084,\n",
       "         'del': 1084,\n",
       "         'mondo': 1084,\n",
       "         'olio': 1084,\n",
       "         'www': 1084,\n",
       "         'pinco': 542,\n",
       "         'pallino': 542,\n",
       "         'it': 542,\n",
       "         'pallo': 542,\n",
       "         'edu': 542,\n",
       "         'gpf': 542,\n",
       "         'forte': 542,\n",
       "         'hotmail': 542,\n",
       "         'google': 542,\n",
       "         'http': 542,\n",
       "         'coreyms': 542,\n",
       "         'youtube': 542,\n",
       "         'nasa': 542,\n",
       "         'gov': 542,\n",
       "         'Pippo': 542})"
      ]
     },
     "execution_count": 6,
     "metadata": {},
     "output_type": "execute_result"
    }
   ],
   "source": [
    "# Il file seguente è quello in cui si vogliono contare le occorrenze delle parole\n",
    "counting = Counter([])\n",
    "df = pd.read_csv(\"reg_exp_sample.csv\", sep=\";\")\n",
    "# Regular Expression per cercare match\n",
    "re_pattern = re.compile(r\"[a-z,A-Z]+\")\n",
    "print(re_pattern)\n",
    "for item in df.iloc[:, 0]:\n",
    "    result = re_pattern.findall(item)\n",
    "    counting = counting + Counter(result)\n",
    "\n",
    "counted_words = dict(counting.most_common())\n",
    "# df_result = pd.DataFrame(counted_words.items(),\n",
    "#                             columns=['Word', 'Occurences'])\n",
    "# df_result.to_csv(\"reg_exp_sample_result.csv\",\n",
    "#                     sep=\";\", index=False)\n",
    "counted_words\n",
    "counting"
   ]
  }
 ],
 "metadata": {
  "kernelspec": {
   "display_name": "Python 3",
   "language": "python",
   "name": "python3"
  },
  "language_info": {
   "codemirror_mode": {
    "name": "ipython",
    "version": 3
   },
   "file_extension": ".py",
   "mimetype": "text/x-python",
   "name": "python",
   "nbconvert_exporter": "python",
   "pygments_lexer": "ipython3",
   "version": "3.11.4"
  }
 },
 "nbformat": 4,
 "nbformat_minor": 2
}
