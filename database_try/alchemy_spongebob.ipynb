{
 "cells": [
  {
   "cell_type": "code",
   "execution_count": 4,
   "metadata": {},
   "outputs": [
    {
     "name": "stdout",
     "output_type": "stream",
     "text": [
      "2022-03-31 21:59:12,487 INFO sqlalchemy.engine.Engine BEGIN (implicit)\n",
      "2022-03-31 21:59:12,495 INFO sqlalchemy.engine.Engine INSERT INTO user_account (name, fullname) VALUES (?, ?)\n",
      "2022-03-31 21:59:12,503 INFO sqlalchemy.engine.Engine [generated in 0.00294s] (None, None)\n",
      "2022-03-31 21:59:12,511 INFO sqlalchemy.engine.Engine COMMIT\n"
     ]
    }
   ],
   "source": [
    "from models import User, Address, engine\n",
    "from sqlalchemy.orm import Session\n",
    "\n",
    "crabby = User()\n",
    "session = Session(engine)\n",
    "\n",
    "session.add(crabby)\n",
    "session.new\n",
    "session.commit()\n"
   ]
  },
  {
   "cell_type": "code",
   "execution_count": 9,
   "metadata": {},
   "outputs": [
    {
     "name": "stdout",
     "output_type": "stream",
     "text": [
      "2022-03-31 22:05:27,016 INFO sqlalchemy.engine.Engine UPDATE user_account SET name=? WHERE user_account.id = ?\n",
      "2022-03-31 22:05:27,016 INFO sqlalchemy.engine.Engine [generated in 0.00224s] ('Mr Crab', 4)\n",
      "2022-03-31 22:05:27,024 INFO sqlalchemy.engine.Engine COMMIT\n"
     ]
    }
   ],
   "source": [
    "crabby.id\n",
    "crabby.name = \"Mr Crab\"\n",
    "session.dirty\n",
    "session.commit()\n"
   ]
  },
  {
   "cell_type": "code",
   "execution_count": 16,
   "metadata": {},
   "outputs": [
    {
     "name": "stdout",
     "output_type": "stream",
     "text": [
      "2022-03-31 22:09:29,461 INFO sqlalchemy.engine.Engine UPDATE user_account SET name=?, fullname=? WHERE user_account.id = ?\n",
      "2022-03-31 22:09:29,469 INFO sqlalchemy.engine.Engine [generated in 0.00316s] ('Mr. Crab', 'Mister Crab', 4)\n",
      "2022-03-31 22:09:29,469 INFO sqlalchemy.engine.Engine COMMIT\n"
     ]
    }
   ],
   "source": [
    "crabby.name\n",
    "crabby.name = \"Mr. Crab\"\n",
    "crabby.fullname = \"Mister Crab\"\n",
    "session.dirty\n",
    "session.commit()\n"
   ]
  },
  {
   "cell_type": "code",
   "execution_count": 15,
   "metadata": {},
   "outputs": [
    {
     "data": {
      "text/plain": [
       "'Mr. Crab'"
      ]
     },
     "execution_count": 15,
     "metadata": {},
     "output_type": "execute_result"
    }
   ],
   "source": []
  }
 ],
 "metadata": {
  "interpreter": {
   "hash": "e4c637b76e5ad77273043986155a5e4cf75009e97e48394ab6757b1e7633eb84"
  },
  "kernelspec": {
   "display_name": "Python 3.8.10 64-bit (windows store)",
   "language": "python",
   "name": "python3"
  },
  "language_info": {
   "codemirror_mode": {
    "name": "ipython",
    "version": 3
   },
   "file_extension": ".py",
   "mimetype": "text/x-python",
   "name": "python",
   "nbconvert_exporter": "python",
   "pygments_lexer": "ipython3",
   "version": "3.8.10"
  },
  "orig_nbformat": 4
 },
 "nbformat": 4,
 "nbformat_minor": 2
}
