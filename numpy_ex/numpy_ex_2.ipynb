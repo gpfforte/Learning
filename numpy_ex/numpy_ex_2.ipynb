{
 "cells": [
  {
   "cell_type": "code",
   "execution_count": 1,
   "metadata": {},
   "outputs": [],
   "source": [
    "import numpy as np"
   ]
  },
  {
   "cell_type": "code",
   "execution_count": 2,
   "metadata": {},
   "outputs": [
    {
     "name": "stdout",
     "output_type": "stream",
     "text": [
      "['01' '02' '03' '04' '05' '06' '07' '08' '09' '10' '11' '12'] 1 (12,) <U2 12 <memory at 0x000001747CDFEE80>\n",
      "[ 0  1  2  3  4  5  6  7  8  9 10 11 12 13 14 15 16 17 18 19 20 21 22 23\n",
      " 24 25 26 27 28 29] 1 (30,) int64 30 <memory at 0x000001747CDFEE80>\n"
     ]
    }
   ],
   "source": [
    "months = [str(x).zfill(2) for x in range(1, 13)]\n",
    "m = np.array(months)\n",
    "print(m, m.ndim, m.shape, m.dtype, m.size, m.data)\n",
    "a = np.arange(30, dtype=np.int64)\n",
    "print(a, a.ndim, a.shape, a.dtype, a.size, a.data)\n"
   ]
  },
  {
   "cell_type": "code",
   "execution_count": 4,
   "metadata": {},
   "outputs": [
    {
     "name": "stdout",
     "output_type": "stream",
     "text": [
      "[[[ 0  1  2  3  4]\n",
      "  [ 5  6  7  8  9]\n",
      "  [10 11 12 13 14]]\n",
      "\n",
      " [[15 16 17 18 19]\n",
      "  [20 21 22 23 24]\n",
      "  [25 26 27 28 29]]] 3 (2, 3, 5)\n"
     ]
    }
   ],
   "source": [
    "b = a.reshape(2, 3, 5)\n",
    "print(b, b.ndim, b.shape)\n",
    "\n"
   ]
  },
  {
   "cell_type": "code",
   "execution_count": 5,
   "metadata": {},
   "outputs": [
    {
     "name": "stdout",
     "output_type": "stream",
     "text": [
      "14\n",
      "(4,) (4,)\n"
     ]
    }
   ],
   "source": [
    "f = np.arange(4, dtype=np.int64)\n",
    "ft = f.T\n",
    "print(f.dot(ft))\n",
    "print(f.shape, ft.shape)"
   ]
  },
  {
   "cell_type": "code",
   "execution_count": 7,
   "metadata": {},
   "outputs": [
    {
     "name": "stdout",
     "output_type": "stream",
     "text": [
      "[0 1 2 3] (4,)\n",
      "[[0 1 2 3]] (1, 4)\n",
      "[[0]\n",
      " [1]\n",
      " [2]\n",
      " [3]] (4, 1)\n",
      "g: [array([[ True,  True, False, False]])]\n",
      "g: [0 1]\n",
      "h: [array([[ True],\n",
      "       [ True],\n",
      "       [False],\n",
      "       [False]])]\n",
      "h: [0 1]\n"
     ]
    }
   ],
   "source": [
    "g = f[np.newaxis, :]\n",
    "h = f[:, np.newaxis]\n",
    "print(f, f.shape)\n",
    "print(g, g.shape)\n",
    "print(h, h.shape)\n",
    "print(\"g:\", [g < 2])\n",
    "print(\"g:\", g[g < 2])\n",
    "print(\"h:\", [h < 2])\n",
    "print(\"h:\", h[h < 2])\n"
   ]
  },
  {
   "cell_type": "code",
   "execution_count": 8,
   "metadata": {},
   "outputs": [
    {
     "name": "stdout",
     "output_type": "stream",
     "text": [
      "[[14]]\n",
      "[[0 0 0 0]\n",
      " [0 1 2 3]\n",
      " [0 2 4 6]\n",
      " [0 3 6 9]]\n",
      "14\n",
      "14\n"
     ]
    }
   ],
   "source": [
    "print(g @ h)\n",
    "print(h @ g)\n",
    "print(f.dot(f))\n",
    "print(f @ f)"
   ]
  },
  {
   "cell_type": "code",
   "execution_count": 9,
   "metadata": {},
   "outputs": [
    {
     "name": "stdout",
     "output_type": "stream",
     "text": [
      "[[ 5  4  3  2  1]\n",
      " [10  9  8  7  6]\n",
      " [ 8  7  6  5  4]\n",
      " [12 11 10  9  8]\n",
      " [17 16 15 14 13]]\n",
      "[[13 14 15 16 17]\n",
      " [ 8  9 10 11 12]\n",
      " [ 4  5  6  7  8]\n",
      " [ 6  7  8  9 10]\n",
      " [ 1  2  3  4  5]]\n",
      "[[17 16 15 14 13]\n",
      " [12 11 10  9  8]\n",
      " [ 8  7  6  5  4]\n",
      " [10  9  8  7  6]\n",
      " [ 5  4  3  2  1]]\n",
      "[[ 7  8  9]\n",
      " [ 5  6  7]\n",
      " [ 9 10 11]]\n"
     ]
    }
   ],
   "source": [
    "m = np.array([[1, 2, 3, 4, 5],\n",
    "                [6, 7, 8, 9, 10],\n",
    "                [4, 5, 6, 7, 8],\n",
    "                [8, 9, 10, 11, 12],\n",
    "                [13, 14, 15, 16, 17]])\n",
    "revm = m[::,::-1]\n",
    "print(revm)\n",
    "revmrow = m[::-1,:]\n",
    "print(revmrow)\n",
    "revmall = m[::-1,::-1]\n",
    "print(revmall)\n",
    "cut = m[1:-1,1:-1]\n",
    "print(cut)"
   ]
  }
 ],
 "metadata": {
  "interpreter": {
   "hash": "e4c637b76e5ad77273043986155a5e4cf75009e97e48394ab6757b1e7633eb84"
  },
  "kernelspec": {
   "display_name": "Python 3.8.10 64-bit (windows store)",
   "language": "python",
   "name": "python3"
  },
  "language_info": {
   "codemirror_mode": {
    "name": "ipython",
    "version": 3
   },
   "file_extension": ".py",
   "mimetype": "text/x-python",
   "name": "python",
   "nbconvert_exporter": "python",
   "pygments_lexer": "ipython3",
   "version": "3.8.10"
  },
  "orig_nbformat": 4
 },
 "nbformat": 4,
 "nbformat_minor": 2
}
